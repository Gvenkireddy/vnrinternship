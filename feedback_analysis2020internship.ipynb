{
 "cells": [
  {
   "cell_type": "markdown",
   "metadata": {
    "_uuid": "0308f333e172323c385671305f15e2fefcdee2ed"
   },
   "source": [
    "## Problem Description\n",
    "Given dataset contains data of feedback give by customers.\n",
    "\n",
    "It contains a total of five categories: 'Bug', 'comments', 'complaints', 'meaningless', 'requests'.\n",
    "\n",
    "My task was to build a machine learning / deep learning model to predict the categories of feedback.\n"
   ]
  },
  {
   "cell_type": "markdown",
   "metadata": {
    "_uuid": "eaae2aee9804ea8802d840abb44ac1b1f6273409"
   },
   "source": [
    "## Content\n",
    "1.  Introduction\n",
    "2. Data Injection\n",
    "3. Data Visualisation\n",
    "4. Data Cleaning and Preparation\n",
    "5. Training                                                                                                                                                                                                                                                           \n",
    "5.1. One Vs All                                                                                                                                                                                                                                    \n",
    "5.2.Artificial Neural Network\n",
    "6. Evaluation by graph\n",
    "7. Prediction\n",
    "8. Saving model"
   ]
  },
  {
   "cell_type": "code",
   "execution_count": 1,
   "metadata": {
    "_uuid": "d6d08f297241d5f532b6c9009fc92867b84d3ddf"
   },
   "outputs": [],
   "source": [
    "\n",
    "import pandas as pd\n",
    "import numpy as np\n",
    "import os\n",
    "\n",
    "import matplotlib.pyplot as plt\n",
    "import seaborn as sns\n",
    "\n",
    "from keras.utils import to_categorical\n",
    "from sklearn.preprocessing import LabelEncoder\n",
    "\n",
    "import re\n",
    "from nltk.corpus import stopwords\n",
    "from sklearn.feature_extraction.text import TfidfVectorizer"
   ]
  },
  {
   "cell_type": "code",
   "execution_count": 2,
   "metadata": {
    "_cell_guid": "79c7e3d0-c299-4dcb-8224-4455121ee9b0",
    "_uuid": "d629ff2d2480ee46fbb7e2d37f6b5fab8052498a"
   },
   "outputs": [
    {
     "name": "stdout",
     "output_type": "stream",
     "text": [
      "H:/Feedback-Analysis-master/Feedback-Analysis-master/Data/bugs.txt\n",
      "H:/Feedback-Analysis-master/Feedback-Analysis-master/Data/comments.txt\n",
      "H:/Feedback-Analysis-master/Feedback-Analysis-master/Data/complaints.txt\n",
      "H:/Feedback-Analysis-master/Feedback-Analysis-master/Data/meaningless.txt\n",
      "H:/Feedback-Analysis-master/Feedback-Analysis-master/Data/requests.txt\n"
     ]
    }
   ],
   "source": [
    "path1='H:/Feedback-Analysis-master/Feedback-Analysis-master/Data/bugs.txt'\n",
    "print(path1)\n",
    "path2='H:/Feedback-Analysis-master/Feedback-Analysis-master/Data/comments.txt'\n",
    "print(path2)\n",
    "path3='H:/Feedback-Analysis-master/Feedback-Analysis-master/Data/complaints.txt'\n",
    "print(path3)\n",
    "path4='H:/Feedback-Analysis-master/Feedback-Analysis-master/Data/meaningless.txt'\n",
    "print(path4)\n",
    "path5='H:/Feedback-Analysis-master/Feedback-Analysis-master/Data/requests.txt'\n",
    "print(path5)\n"
   ]
  },
  {
   "cell_type": "code",
   "execution_count": 3,
   "metadata": {
    "_uuid": "2bdca0d761dd2b0e10a15b032f31fa3f028e8bde"
   },
   "outputs": [],
   "source": [
    "def text_data(path):\n",
    "    text_Body=[]\n",
    "    with open(path, \"r\", encoding='windows-1256') as f:\n",
    "        lines = f.readlines()\n",
    "            #print(lines) \n",
    "        text_Body.append(lines)\n",
    "    text_body_appended=[]\n",
    "    for i in range(0,len(text_Body[0])):\n",
    "        value=text_Body[0][i]\n",
    "        text_body_appended.append(value)\n",
    "    return text_body_appended"
   ]
  },
  {
   "cell_type": "code",
   "execution_count": 4,
   "metadata": {
    "_uuid": "d684e1a50da4e4320c6fb1dadab4a1f904e94bbf"
   },
   "outputs": [],
   "source": [
    "bugs=text_data(path1)\n",
    "comments=text_data(path2)\n",
    "complaints=text_data(path3)\n",
    "meaningless=text_data(path4)\n",
    "requests=text_data(path5)"
   ]
  },
  {
   "cell_type": "code",
   "execution_count": 5,
   "metadata": {
    "_uuid": "e0688708a7d9d02bc07a7b48a856d1764afde60f"
   },
   "outputs": [
    {
     "name": "stdout",
     "output_type": "stream",
     "text": [
      "72\n",
      "1759\n",
      "950\n",
      "306\n",
      "103\n"
     ]
    }
   ],
   "source": [
    "print(len(bugs))\n",
    "print(len(comments))\n",
    "print(len(complaints))\n",
    "print(len(meaningless))\n",
    "print(len(requests))"
   ]
  },
  {
   "cell_type": "code",
   "execution_count": 6,
   "metadata": {
    "_uuid": "380b29f7566a329abc356dd0f3058f7525705048"
   },
   "outputs": [],
   "source": [
    "def data_frame(txt,category):\n",
    "    column_names=('text','Category')\n",
    "    df = pd.DataFrame(columns=column_names)\n",
    "    df['text']=txt\n",
    "    df['Category']=category\n",
    "    return df"
   ]
  },
  {
   "cell_type": "code",
   "execution_count": 7,
   "metadata": {
    "_uuid": "05ff0af9cc8d99413f4d0e7195678b097d096286"
   },
   "outputs": [],
   "source": [
    "data=data_frame(bugs,\"Bug\")\n",
    "data=data.append(data_frame(comments,\"comments\"))\n",
    "data=data.append(data_frame(complaints,\"complaints\"))\n",
    "data=data.append(data_frame(meaningless,\"meaningless\"))\n",
    "data=data.append(data_frame(requests,\"requests\"))"
   ]
  },
  {
   "cell_type": "code",
   "execution_count": 8,
   "metadata": {
    "_uuid": "3abb59ce295afca5318abe2c0d94a61e1e09bfae"
   },
   "outputs": [
    {
     "data": {
      "text/plain": [
       "array(['Bug', 'comments', 'complaints', 'meaningless', 'requests'],\n",
       "      dtype=object)"
      ]
     },
     "execution_count": 8,
     "metadata": {},
     "output_type": "execute_result"
    }
   ],
   "source": [
    "data['Category'].unique()"
   ]
  },
  {
   "cell_type": "code",
   "execution_count": 9,
   "metadata": {
    "_uuid": "094c47d5581e124b7e081b228702566aaf4b3555"
   },
   "outputs": [
    {
     "data": {
      "text/html": [
       "<div>\n",
       "<style scoped>\n",
       "    .dataframe tbody tr th:only-of-type {\n",
       "        vertical-align: middle;\n",
       "    }\n",
       "\n",
       "    .dataframe tbody tr th {\n",
       "        vertical-align: top;\n",
       "    }\n",
       "\n",
       "    .dataframe thead th {\n",
       "        text-align: right;\n",
       "    }\n",
       "</style>\n",
       "<table border=\"1\" class=\"dataframe\">\n",
       "  <thead>\n",
       "    <tr style=\"text-align: right;\">\n",
       "      <th></th>\n",
       "      <th>text</th>\n",
       "      <th>Category</th>\n",
       "    </tr>\n",
       "  </thead>\n",
       "  <tbody>\n",
       "    <tr>\n",
       "      <th>0</th>\n",
       "      <td>A lot of the time my purchase won't show up.\\n</td>\n",
       "      <td>Bug</td>\n",
       "    </tr>\n",
       "    <tr>\n",
       "      <th>1</th>\n",
       "      <td>I only see the notification if I catch it live...</td>\n",
       "      <td>Bug</td>\n",
       "    </tr>\n",
       "    <tr>\n",
       "      <th>2</th>\n",
       "      <td>When I type the typing area should slide above...</td>\n",
       "      <td>Bug</td>\n",
       "    </tr>\n",
       "    <tr>\n",
       "      <th>3</th>\n",
       "      <td>I ran it, and promptly got driver problems wit...</td>\n",
       "      <td>Bug</td>\n",
       "    </tr>\n",
       "    <tr>\n",
       "      <th>4</th>\n",
       "      <td>Still calls keep dropping with the new updates\\n</td>\n",
       "      <td>Bug</td>\n",
       "    </tr>\n",
       "  </tbody>\n",
       "</table>\n",
       "</div>"
      ],
      "text/plain": [
       "                                                text Category\n",
       "0     A lot of the time my purchase won't show up.\\n      Bug\n",
       "1  I only see the notification if I catch it live...      Bug\n",
       "2  When I type the typing area should slide above...      Bug\n",
       "3  I ran it, and promptly got driver problems wit...      Bug\n",
       "4   Still calls keep dropping with the new updates\\n      Bug"
      ]
     },
     "execution_count": 9,
     "metadata": {},
     "output_type": "execute_result"
    }
   ],
   "source": [
    "data.head()"
   ]
  },
  {
   "cell_type": "code",
   "execution_count": 10,
   "metadata": {
    "_uuid": "5ece156e9f9d1a187d1dc4cd1c9a4e0262a9b55a"
   },
   "outputs": [
    {
     "data": {
      "text/plain": [
       "Category\n",
       "Bug              72\n",
       "comments       1759\n",
       "complaints      950\n",
       "meaningless     306\n",
       "requests        103\n",
       "dtype: int64"
      ]
     },
     "execution_count": 10,
     "metadata": {},
     "output_type": "execute_result"
    }
   ],
   "source": [
    "data.groupby(['Category']).size()"
   ]
  },
  {
   "cell_type": "code",
   "execution_count": 10,
   "metadata": {
    "_uuid": "7ba8c58c57a0ea8d28157084b6a833e1e6c2bde0"
   },
   "outputs": [
    {
     "data": {
      "image/png": "[encoded data removed]",
      "text/plain": [
       "<Figure size 432x288 with 1 Axes>"
      ]
     },
     "metadata": {
      "needs_background": "light"
     },
     "output_type": "display_data"
    }
   ],
   "source": [
    "sns.countplot(x='Category',data=data,order=['Bug', 'comments', 'complaints', 'meaningless', 'requests'])\n",
    "plt.show()"
   ]
  },
  {
   "cell_type": "code",
   "execution_count": 11,
   "metadata": {
    "_uuid": "d83f7bb7ef07929bec36601a7319c536acf74058"
   },
   "outputs": [],
   "source": [
    "#remove link starts with https\n",
    "data['text'] = data['text'].map(lambda x:re.sub('http.*','',str(x)))\n",
    "#removing data and time (numeric values)\n",
    "data['text'] = data['text'].map(lambda x:re.sub('[0-9]','',str(x)))\n",
    "#removing \\n\n",
    "data['text'] = data['text'].map(lambda x:re.sub('[\\\\n]','',str(x)))\n",
    "#removing some special characters\n",
    "data['text'] = data['text'].map(lambda x:re.sub('[#|*|$|:|\\\\|&]','',str(x)))\n"
   ]
  },
  {
   "cell_type": "code",
   "execution_count": 12,
   "metadata": {
    "_uuid": "a9e70bf25385d2562a671e48adcda46901b58fa8"
   },
   "outputs": [],
   "source": [
    "my_stopwords = ['jan','january','february' 'feb', 'march', 'april', 'may', 'june','july','aug',\n",
    "                    'october','October','june','july','February','apr','Apr','february','jun','jul','feb','sep',\n",
    "                    'august','sept','september','oct','october','nov','november','dec','december','mar','november october','wasnt']"
   ]
  },
  {
   "cell_type": "code",
   "execution_count": 13,
   "metadata": {
    "_uuid": "9b605a21b39bd6afae124eb31a549dd9b5abed96"
   },
   "outputs": [],
   "source": [
    "#preparing train data\n",
    "#removing stopwords and tokenizing it.\n",
    "stop=stopwords.words('english')\n",
    "text=[]\n",
    "none=data['text'].map(lambda x:text.append(' '.join\n",
    "       ([word for word in str(x).strip().split() if not word in set(stop) and word not in my_stopwords])))\n",
    "tfid=TfidfVectorizer(strip_accents=None,lowercase=False,preprocessor=None)\n",
    "x_features=tfid.fit_transform(text).toarray()\n",
    "x_features=pd.DataFrame(x_features)"
   ]
  },
  {
   "cell_type": "code",
   "execution_count": 14,
   "metadata": {
    "_uuid": "c95ca4725729cd8a67c8b0fdf277c7f9f26a74c5"
   },
   "outputs": [],
   "source": [
    "\n",
    "target=data['Category']\n",
    "label=LabelEncoder()\n",
    "target=label.fit_transform(target)\n",
    "target=to_categorical(target)"
   ]
  },
  {
   "cell_type": "code",
   "execution_count": 15,
   "metadata": {
    "_uuid": "bdef15e04b62beb6af4d11beb2fdac64f77a0b5f"
   },
   "outputs": [
    {
     "data": {
      "text/html": [
       "<div>\n",
       "<style scoped>\n",
       "    .dataframe tbody tr th:only-of-type {\n",
       "        vertical-align: middle;\n",
       "    }\n",
       "\n",
       "    .dataframe tbody tr th {\n",
       "        vertical-align: top;\n",
       "    }\n",
       "\n",
       "    .dataframe thead th {\n",
       "        text-align: right;\n",
       "    }\n",
       "</style>\n",
       "<table border=\"1\" class=\"dataframe\">\n",
       "  <thead>\n",
       "    <tr style=\"text-align: right;\">\n",
       "      <th></th>\n",
       "      <th>Bug</th>\n",
       "      <th>comments</th>\n",
       "      <th>complaints</th>\n",
       "      <th>meaningless</th>\n",
       "      <th>requests</th>\n",
       "    </tr>\n",
       "  </thead>\n",
       "  <tbody>\n",
       "    <tr>\n",
       "      <th>0</th>\n",
       "      <td>1.0</td>\n",
       "      <td>0.0</td>\n",
       "      <td>0.0</td>\n",
       "      <td>0.0</td>\n",
       "      <td>0.0</td>\n",
       "    </tr>\n",
       "    <tr>\n",
       "      <th>1</th>\n",
       "      <td>1.0</td>\n",
       "      <td>0.0</td>\n",
       "      <td>0.0</td>\n",
       "      <td>0.0</td>\n",
       "      <td>0.0</td>\n",
       "    </tr>\n",
       "    <tr>\n",
       "      <th>2</th>\n",
       "      <td>1.0</td>\n",
       "      <td>0.0</td>\n",
       "      <td>0.0</td>\n",
       "      <td>0.0</td>\n",
       "      <td>0.0</td>\n",
       "    </tr>\n",
       "    <tr>\n",
       "      <th>3</th>\n",
       "      <td>1.0</td>\n",
       "      <td>0.0</td>\n",
       "      <td>0.0</td>\n",
       "      <td>0.0</td>\n",
       "      <td>0.0</td>\n",
       "    </tr>\n",
       "    <tr>\n",
       "      <th>4</th>\n",
       "      <td>1.0</td>\n",
       "      <td>0.0</td>\n",
       "      <td>0.0</td>\n",
       "      <td>0.0</td>\n",
       "      <td>0.0</td>\n",
       "    </tr>\n",
       "  </tbody>\n",
       "</table>\n",
       "</div>"
      ],
      "text/plain": [
       "   Bug  comments  complaints  meaningless  requests\n",
       "0  1.0       0.0         0.0          0.0       0.0\n",
       "1  1.0       0.0         0.0          0.0       0.0\n",
       "2  1.0       0.0         0.0          0.0       0.0\n",
       "3  1.0       0.0         0.0          0.0       0.0\n",
       "4  1.0       0.0         0.0          0.0       0.0"
      ]
     },
     "execution_count": 15,
     "metadata": {},
     "output_type": "execute_result"
    }
   ],
   "source": [
    "target=pd.DataFrame(data=target,columns=['Bug', 'comments', 'complaints', 'meaningless', 'requests'])\n",
    "target.head()"
   ]
  },
  {
   "cell_type": "code",
   "execution_count": 16,
   "metadata": {
    "_uuid": "95598dbfbd28ca02808649fbacb215a870ffb63c"
   },
   "outputs": [],
   "source": [
    "\n",
    "from sklearn.model_selection import cross_val_score\n",
    "from sklearn.multiclass import OneVsRestClassifier\n",
    "from sklearn.linear_model import LogisticRegression as lg\n",
    "logistic=lg(penalty='l2',solver='newton-cg',C=5,multi_class='ovr',max_iter=5000)#using multiclass as ovr(one vs rest)"
   ]
  },
  {
   "cell_type": "markdown",
   "metadata": {
    "_uuid": "8530c45a23c9d75e9bed51b9a3a4e84bb277c8e0"
   },
   "source": [
    "**Training Bugs vs all**"
   ]
  },
  {
   "cell_type": "code",
   "execution_count": 17,
   "metadata": {
    "_uuid": "df1223cb899ae14ddcd889402f8894f5822ba531"
   },
   "outputs": [
    {
     "data": {
      "text/plain": [
       "0.8268472906403941"
      ]
     },
     "execution_count": 17,
     "metadata": {},
     "output_type": "execute_result"
    }
   ],
   "source": [
    "acc=cross_val_score(estimator=logistic,X=x_features.iloc[:144,:],y=target.iloc[:144,0],cv=5)\n",
    "acc.mean()"
   ]
  },
  {
   "cell_type": "markdown",
   "metadata": {
    "_uuid": "a054dcc58f613719e9ab1e40bb29c3d3bca3d5ac"
   },
   "source": [
    "**Training comments vs all**"
   ]
  },
  {
   "cell_type": "code",
   "execution_count": 19,
   "metadata": {
    "_uuid": "805014c68f71eb12248f566d3eaeb62014547dea"
   },
   "outputs": [
    {
     "data": {
      "text/plain": [
       "0.8634999999999999"
      ]
     },
     "execution_count": 19,
     "metadata": {},
     "output_type": "execute_result"
    }
   ],
   "source": [
    "acc=cross_val_score(estimator=logistic,X=x_features.iloc[100:2100,:],y=target.iloc[100:2100,1],cv=5)\n",
    "acc.mean()"
   ]
  },
  {
   "cell_type": "markdown",
   "metadata": {
    "_uuid": "e4874a4531327a9a6207830ead98a952e1593bf1"
   },
   "source": [
    "**Training  complaints vs all**"
   ]
  },
  {
   "cell_type": "code",
   "execution_count": 20,
   "metadata": {
    "_uuid": "717c1e165d355c01f058445336933a32c58c72f5"
   },
   "outputs": [
    {
     "data": {
      "text/plain": [
       "0.6124260355029586"
      ]
     },
     "execution_count": 20,
     "metadata": {},
     "output_type": "execute_result"
    }
   ],
   "source": [
    "acc=cross_val_score(estimator=logistic,X=x_features.iloc[1500:3500,:],y=target.iloc[1500:3500,2],cv=5)\n",
    "acc.mean()"
   ]
  },
  {
   "cell_type": "markdown",
   "metadata": {
    "_uuid": "bbae562b8d25ad6a3f4ba990f57a4f0aa712a525"
   },
   "source": [
    "**Training meaningless vs all**"
   ]
  },
  {
   "cell_type": "code",
   "execution_count": 21,
   "metadata": {
    "_uuid": "9dba555c8ecfe1dd1e0b30fcb870c7eacb10d9a8"
   },
   "outputs": [
    {
     "data": {
      "text/plain": [
       "0.6979591836734694"
      ]
     },
     "execution_count": 21,
     "metadata": {},
     "output_type": "execute_result"
    }
   ],
   "source": [
    "acc=cross_val_score(estimator=logistic,X=x_features.iloc[2700:3300,:],y=target.iloc[2700:3300,3],cv=5)\n",
    "acc.mean()"
   ]
  },
  {
   "cell_type": "markdown",
   "metadata": {
    "_uuid": "f8a7b1e7bd6a9713ca6f32187ea8652a15e0e510"
   },
   "source": [
    "**Training requests vs all**"
   ]
  },
  {
   "cell_type": "code",
   "execution_count": 22,
   "metadata": {
    "_uuid": "74050d55801b78a851ab1eaf2812ad02b720abf2"
   },
   "outputs": [
    {
     "data": {
      "text/plain": [
       "0.7285714285714286"
      ]
     },
     "execution_count": 22,
     "metadata": {},
     "output_type": "execute_result"
    }
   ],
   "source": [
    "acc=cross_val_score(estimator=logistic,X=x_features.iloc[-206:,:],y=target.iloc[-206:,4],cv=5)\n",
    "acc.mean()"
   ]
  },
  {
   "cell_type": "markdown",
   "metadata": {
    "_uuid": "e54b7e11926b1184dac799a44e1584b148b1504a"
   },
   "source": [
    "> *As we can clearly see that 'comment' got the best accuracy (abour 87%) this is because  of its the bigger data size which making our moldel inclined towards comments*"
   ]
  },
  {
   "cell_type": "code",
   "execution_count": 23,
   "metadata": {
    "_uuid": "05cb9aefa36168c83212b7b7e82f82b8706040da"
   },
   "outputs": [],
   "source": [
    "\n",
    "from keras.models import Sequential\n",
    "from keras.layers import Flatten, Dense\n",
    "from keras import regularizers\n",
    "from keras.layers import Dropout"
   ]
  },
  {
   "cell_type": "code",
   "execution_count": 24,
   "metadata": {
    "_uuid": "18fe023012acefd9863408f828c000cb4cdd2561"
   },
   "outputs": [
    {
     "data": {
      "text/plain": [
       "(3190, 5193)"
      ]
     },
     "execution_count": 24,
     "metadata": {},
     "output_type": "execute_result"
    }
   ],
   "source": [
    "x_features.shape"
   ]
  },
  {
   "cell_type": "code",
   "execution_count": 25,
   "metadata": {
    "_uuid": "0c7c2272fb424c28f4776cb36017affa2f68d73e"
   },
   "outputs": [],
   "source": [
    "#preparing target variable\n",
    "target=data['Category']\n",
    "label=LabelEncoder()\n",
    "target=label.fit_transform(target)\n",
    "target=to_categorical(target)"
   ]
  },
  {
   "cell_type": "code",
   "execution_count": 26,
   "metadata": {
    "_uuid": "bc7759d8be5ec1780be69dba37b6bd6ffb896495"
   },
   "outputs": [
    {
     "data": {
      "text/html": [
       "<div>\n",
       "<style scoped>\n",
       "    .dataframe tbody tr th:only-of-type {\n",
       "        vertical-align: middle;\n",
       "    }\n",
       "\n",
       "    .dataframe tbody tr th {\n",
       "        vertical-align: top;\n",
       "    }\n",
       "\n",
       "    .dataframe thead th {\n",
       "        text-align: right;\n",
       "    }\n",
       "</style>\n",
       "<table border=\"1\" class=\"dataframe\">\n",
       "  <thead>\n",
       "    <tr style=\"text-align: right;\">\n",
       "      <th></th>\n",
       "      <th>Bug</th>\n",
       "      <th>comments</th>\n",
       "      <th>complaints</th>\n",
       "      <th>meaningless</th>\n",
       "      <th>requests</th>\n",
       "    </tr>\n",
       "  </thead>\n",
       "  <tbody>\n",
       "    <tr>\n",
       "      <th>0</th>\n",
       "      <td>1.0</td>\n",
       "      <td>0.0</td>\n",
       "      <td>0.0</td>\n",
       "      <td>0.0</td>\n",
       "      <td>0.0</td>\n",
       "    </tr>\n",
       "    <tr>\n",
       "      <th>1</th>\n",
       "      <td>1.0</td>\n",
       "      <td>0.0</td>\n",
       "      <td>0.0</td>\n",
       "      <td>0.0</td>\n",
       "      <td>0.0</td>\n",
       "    </tr>\n",
       "    <tr>\n",
       "      <th>2</th>\n",
       "      <td>1.0</td>\n",
       "      <td>0.0</td>\n",
       "      <td>0.0</td>\n",
       "      <td>0.0</td>\n",
       "      <td>0.0</td>\n",
       "    </tr>\n",
       "    <tr>\n",
       "      <th>3</th>\n",
       "      <td>1.0</td>\n",
       "      <td>0.0</td>\n",
       "      <td>0.0</td>\n",
       "      <td>0.0</td>\n",
       "      <td>0.0</td>\n",
       "    </tr>\n",
       "    <tr>\n",
       "      <th>4</th>\n",
       "      <td>1.0</td>\n",
       "      <td>0.0</td>\n",
       "      <td>0.0</td>\n",
       "      <td>0.0</td>\n",
       "      <td>0.0</td>\n",
       "    </tr>\n",
       "  </tbody>\n",
       "</table>\n",
       "</div>"
      ],
      "text/plain": [
       "   Bug  comments  complaints  meaningless  requests\n",
       "0  1.0       0.0         0.0          0.0       0.0\n",
       "1  1.0       0.0         0.0          0.0       0.0\n",
       "2  1.0       0.0         0.0          0.0       0.0\n",
       "3  1.0       0.0         0.0          0.0       0.0\n",
       "4  1.0       0.0         0.0          0.0       0.0"
      ]
     },
     "execution_count": 26,
     "metadata": {},
     "output_type": "execute_result"
    }
   ],
   "source": [
    "target=pd.DataFrame(data=target,columns=['Bug', 'comments', 'complaints', 'meaningless', 'requests'])\n",
    "target.head()"
   ]
  },
  {
   "cell_type": "code",
   "execution_count": 27,
   "metadata": {
    "_uuid": "c9d1aa794dcb03ce29efd5ab79c11577f581cc09"
   },
   "outputs": [],
   "source": [
    "clf=Sequential()\n",
    "#adding layers to ANN\n",
    "clf.add(Dense(units=2048,activation=\"relu\",kernel_initializer=\"uniform\",kernel_regularizer=regularizers.l2(0.001),input_dim=5193))\n",
    "clf.add(Dropout(0.2))\n",
    "#adding two more hidden layer to ANN\n",
    "clf.add(Dense(units=2048,activation=\"relu\",kernel_initializer=\"uniform\",kernel_regularizer=regularizers.l2(0.001)))\n",
    "clf.add(Dropout(0.2))\n",
    "clf.add(Dense(units=2048,activation=\"relu\",kernel_initializer=\"uniform\",kernel_regularizer=regularizers.l2(0.001)))\n",
    "clf.add(Dropout(0.2))\n",
    "#adding output layer\n",
    "clf.add(Dense(units=5,activation=\"softmax\",kernel_initializer=\"uniform\"))\n",
    "#compiling ANN\n",
    "clf.compile(optimizer='adam',loss='categorical_crossentropy',metrics=['accuracy'])"
   ]
  },
  {
   "cell_type": "code",
   "execution_count": null,
   "metadata": {
    "_uuid": "138fde9f9fdb34023b3823c25511b236ae2c879c"
   },
   "outputs": [
    {
     "name": "stdout",
     "output_type": "stream",
     "text": [
      "Epoch 1/24\n",
      "100/100 [==============================] - 27s 267ms/step - loss: 4.2227 - accuracy: 0.5831\n",
      "Epoch 2/24\n",
      "100/100 [==============================] - 26s 256ms/step - loss: 1.1185 - accuracy: 0.7166\n",
      "Epoch 3/24\n",
      "100/100 [==============================] - 26s 257ms/step - loss: 0.9160 - accuracy: 0.7856\n",
      "Epoch 4/24\n",
      "100/100 [==============================] - 27s 274ms/step - loss: 0.8047 - accuracy: 0.8339\n",
      "Epoch 5/24\n",
      "100/100 [==============================] - 26s 258ms/step - loss: 0.7198 - accuracy: 0.8614\n",
      "Epoch 6/24\n",
      "100/100 [==============================] - 27s 274ms/step - loss: 0.6652 - accuracy: 0.8749\n",
      "Epoch 7/24\n",
      "100/100 [==============================] - 28s 282ms/step - loss: 0.6098 - accuracy: 0.8850\n",
      "Epoch 8/24\n",
      "100/100 [==============================] - 26s 257ms/step - loss: 0.5785 - accuracy: 0.8950\n",
      "Epoch 9/24\n",
      "100/100 [==============================] - 28s 278ms/step - loss: 0.5414 - accuracy: 0.9019\n",
      "Epoch 10/24\n",
      "100/100 [==============================] - 28s 281ms/step - loss: 0.4941 - accuracy: 0.9119\n",
      "Epoch 11/24\n",
      "100/100 [==============================] - 27s 271ms/step - loss: 0.4747 - accuracy: 0.9179\n",
      "Epoch 12/24\n",
      "100/100 [==============================] - 28s 277ms/step - loss: 0.4595 - accuracy: 0.9132\n",
      "Epoch 13/24\n",
      " 51/100 [==============>...............] - ETA: 13s - loss: 0.4332 - accuracy: 0.9265"
     ]
    }
   ],
   "source": [
    "#fitting ANN\n",
    "hist=clf.fit(x_features,target,batch_size=32,epochs=24)"
   ]
  },
  {
   "cell_type": "code",
   "execution_count": 33,
   "metadata": {
    "_uuid": "1e6a4187f43af9631841ac14e4efc5ff80d93bf0"
   },
   "outputs": [],
   "source": [
    "test=[\"A lot of the time my purchase won't show up.\\n\",\n",
    "      'There should be a Free Demo Mode :/\\n',\n",
    "      \"App constantly crashes and looks like it was designed in 2009... Have to open the app multiple times before I get to a login screen, usually receiving a 'not responding' error.\\n\"]"
   ]
  },
  {
   "cell_type": "code",
   "execution_count": 34,
   "metadata": {
    "_uuid": "6ef339d427731e3d1d66d0dea07bf32d9bf89b52"
   },
   "outputs": [],
   "source": [
    "test=pd.DataFrame(test,columns=['text'])"
   ]
  },
  {
   "cell_type": "code",
   "execution_count": 35,
   "metadata": {
    "_uuid": "ada3bf0275d43db6b5570d4ccfae1451b5c7f90f"
   },
   "outputs": [],
   "source": [
    "\n",
    "test['text'] = test['text'].map(lambda x:re.sub('http.*','',str(x)))\n",
    "\n",
    "test['text'] = test['text'].map(lambda x:re.sub('[0-9]','',str(x)))\n",
    "\n",
    "test['text'] = test['text'].map(lambda x:re.sub('[#|*|$|:|\\\\|&]','',str(x)))"
   ]
  },
  {
   "cell_type": "code",
   "execution_count": 36,
   "metadata": {
    "_uuid": "6c3a345d2efe2d4557e21dd23b54ab4a11630628"
   },
   "outputs": [],
   "source": [
    "#preparing data\n",
    "#removing stopwords and tokenizing it.\n",
    "stop=stopwords.words('english')\n",
    "text=[]\n",
    "none=test['text'].map(lambda x:text.append(' '.join\n",
    "       ([word for word in str(x).strip().split() if not word in set(stop)])))\n",
    "x_features_test=tfid.transform(text).toarray()\n",
    "x_features_test=pd.DataFrame(x_features_test)"
   ]
  },
  {
   "cell_type": "markdown",
   "metadata": {
    "_uuid": "288c7893361de4673d462547862bf3bb5039b499"
   },
   "source": [
    "**by ANN model**"
   ]
  },
  {
   "cell_type": "code",
   "execution_count": 37,
   "metadata": {
    "_uuid": "802086c0817bf613081d34792d5ab0220e3e5931"
   },
   "outputs": [],
   "source": [
    "results=clf.predict(x_features_test)"
   ]
  },
  {
   "cell_type": "code",
   "execution_count": 38,
   "metadata": {
    "_uuid": "7c173c9662aa477e209565dcb7bbafea5bcbfacf"
   },
   "outputs": [
    {
     "data": {
      "text/plain": [
       "array([0, 4, 0], dtype=int64)"
      ]
     },
     "execution_count": 38,
     "metadata": {},
     "output_type": "execute_result"
    }
   ],
   "source": [
    "\n",
    "results = np.argmax(results,axis = 1)\n",
    "results"
   ]
  },
  {
   "cell_type": "code",
   "execution_count": 39,
   "metadata": {
    "_uuid": "62d5252d66f290b497093156b1e06a7f9a5a9415"
   },
   "outputs": [],
   "source": [
    "results=pd.DataFrame(results,columns=['Category'])\n",
    "int_category={0:'Bug', 1:'comments', 2:'complaints', 3:'meaningless', 4:'requests'}\n",
    "results['Category']=results['Category'].apply(lambda x:int_category[x])\n",
    "results['text']=test['text']"
   ]
  },
  {
   "cell_type": "code",
   "execution_count": 40,
   "metadata": {
    "_uuid": "61863c82b70a131298202990b24259877f33f62d",
    "scrolled": true
   },
   "outputs": [
    {
     "data": {
      "text/html": [
       "<div>\n",
       "<style scoped>\n",
       "    .dataframe tbody tr th:only-of-type {\n",
       "        vertical-align: middle;\n",
       "    }\n",
       "\n",
       "    .dataframe tbody tr th {\n",
       "        vertical-align: top;\n",
       "    }\n",
       "\n",
       "    .dataframe thead th {\n",
       "        text-align: right;\n",
       "    }\n",
       "</style>\n",
       "<table border=\"1\" class=\"dataframe\">\n",
       "  <thead>\n",
       "    <tr style=\"text-align: right;\">\n",
       "      <th></th>\n",
       "      <th>Category</th>\n",
       "      <th>text</th>\n",
       "    </tr>\n",
       "  </thead>\n",
       "  <tbody>\n",
       "    <tr>\n",
       "      <th>0</th>\n",
       "      <td>Bug</td>\n",
       "      <td>A lot of the time my purchase won't show up.\\n</td>\n",
       "    </tr>\n",
       "    <tr>\n",
       "      <th>1</th>\n",
       "      <td>requests</td>\n",
       "      <td>There should be a Free Demo Mode /\\n</td>\n",
       "    </tr>\n",
       "    <tr>\n",
       "      <th>2</th>\n",
       "      <td>Bug</td>\n",
       "      <td>App constantly crashes and looks like it was d...</td>\n",
       "    </tr>\n",
       "  </tbody>\n",
       "</table>\n",
       "</div>"
      ],
      "text/plain": [
       "   Category                                               text\n",
       "0       Bug     A lot of the time my purchase won't show up.\\n\n",
       "1  requests               There should be a Free Demo Mode /\\n\n",
       "2       Bug  App constantly crashes and looks like it was d..."
      ]
     },
     "execution_count": 40,
     "metadata": {},
     "output_type": "execute_result"
    }
   ],
   "source": [
    "results"
   ]
  },
  {
   "cell_type": "markdown",
   "metadata": {
    "_uuid": "955c1a86fb2fac549f23c4ebb8f22029931446cd"
   },
   "source": [
    "Created by : **Amal,venkatesh,swathi**"
   ]
  }
 ],
 "metadata": {
  "kernelspec": {
   "display_name": "Python 3",
   "language": "python",
   "name": "python3"
  },
  "language_info": {
   "codemirror_mode": {
    "name": "ipython",
    "version": 3
   },
   "file_extension": ".py",
   "mimetype": "text/x-python",
   "name": "python",
   "nbconvert_exporter": "python",
   "pygments_lexer": "ipython3",
   "version": "3.8.3"
  }
 },
 "nbformat": 4,
 "nbformat_minor": 1
}
